{
 "cells": [
  {
   "cell_type": "code",
   "execution_count": 4,
   "metadata": {},
   "outputs": [],
   "source": [
    "from sklearn.feature_extraction.text import CountVectorizer\n",
    "import pickle"
   ]
  },
  {
   "cell_type": "code",
   "execution_count": 5,
   "metadata": {},
   "outputs": [
    {
     "name": "stderr",
     "output_type": "stream",
     "text": [
      "C:\\Users\\nefdu\\Anaconda3\\lib\\importlib\\_bootstrap.py:219: RuntimeWarning: numpy.ufunc size changed, may indicate binary incompatibility. Expected 192 from C header, got 216 from PyObject\n",
      "  return f(*args, **kwds)\n",
      "C:\\Users\\nefdu\\Anaconda3\\lib\\importlib\\_bootstrap.py:219: RuntimeWarning: numpy.ufunc size changed, may indicate binary incompatibility. Expected 192 from C header, got 216 from PyObject\n",
      "  return f(*args, **kwds)\n"
     ]
    }
   ],
   "source": [
    "with open('data_set/data_shuf.pkl','rb') as fr:\n",
    "    data = pickle.load(fr)"
   ]
  },
  {
   "cell_type": "code",
   "execution_count": 6,
   "metadata": {
    "collapsed": true
   },
   "outputs": [
    {
     "data": {
      "text/html": [
       "<div>\n",
       "<style scoped>\n",
       "    .dataframe tbody tr th:only-of-type {\n",
       "        vertical-align: middle;\n",
       "    }\n",
       "\n",
       "    .dataframe tbody tr th {\n",
       "        vertical-align: top;\n",
       "    }\n",
       "\n",
       "    .dataframe thead th {\n",
       "        text-align: right;\n",
       "    }\n",
       "</style>\n",
       "<table border=\"1\" class=\"dataframe\">\n",
       "  <thead>\n",
       "    <tr style=\"text-align: right;\">\n",
       "      <th></th>\n",
       "      <th>text</th>\n",
       "      <th>party</th>\n",
       "    </tr>\n",
       "  </thead>\n",
       "  <tbody>\n",
       "    <tr>\n",
       "      <th>0</th>\n",
       "      <td>우리사회의 약자인 을 을 대변한다는 명목으로 발족한 민주당의 을지로위원회가 본래 ...</td>\n",
       "      <td>1</td>\n",
       "    </tr>\n",
       "    <tr>\n",
       "      <th>1</th>\n",
       "      <td>김문수 경기지사는 천안함 실종 장병가족에게 사죄하라 김문수 경기지사가 천안함 사고와...</td>\n",
       "      <td>0</td>\n",
       "    </tr>\n",
       "    <tr>\n",
       "      <th>2</th>\n",
       "      <td>이용섭 대변인 오후 현안브리핑 일시 2011년 7월 13일 오후 1시 50분 장소 ...</td>\n",
       "      <td>0</td>\n",
       "    </tr>\n",
       "    <tr>\n",
       "      <th>3</th>\n",
       "      <td>9 9 국정원이 전했다는북한의 납북자 가족대표 최성용씨 테러 위협 첩보는납북자 가...</td>\n",
       "      <td>1</td>\n",
       "    </tr>\n",
       "    <tr>\n",
       "      <th>4</th>\n",
       "      <td>민주노총에 대한 정치탄압을 즉각 중단하라 경찰이 24일 미국산 쇠고기 수입 반대 총...</td>\n",
       "      <td>0</td>\n",
       "    </tr>\n",
       "    <tr>\n",
       "      <th>5</th>\n",
       "      <td>9 9 나경원 대변인은 7월 6일 현안관련 브리핑에서 다음과 같이 밝혔다 음습한 ...</td>\n",
       "      <td>1</td>\n",
       "    </tr>\n",
       "    <tr>\n",
       "      <th>6</th>\n",
       "      <td>김유정 대변인 오전 현안브리핑 일시 2009년 4월 28일 오전 11시 30분 장소...</td>\n",
       "      <td>0</td>\n",
       "    </tr>\n",
       "    <tr>\n",
       "      <th>7</th>\n",
       "      <td>허위사실로 민주당과 당직자들의 명예를 훼손한 한선교 의원에 대해 법적인 책임을 끝까...</td>\n",
       "      <td>0</td>\n",
       "    </tr>\n",
       "    <tr>\n",
       "      <th>8</th>\n",
       "      <td>세금 상식 없어 세금안낸 이만의 환경부 장관이 운하파기로 충성경쟁 이만의 환경부장관...</td>\n",
       "      <td>0</td>\n",
       "    </tr>\n",
       "    <tr>\n",
       "      <th>9</th>\n",
       "      <td>박지원 원내대표 세종시 수정안 부결 관련 기자간담회 일시 2010년 6월 29일 1...</td>\n",
       "      <td>0</td>\n",
       "    </tr>\n",
       "    <tr>\n",
       "      <th>10</th>\n",
       "      <td>9 9 2월 16일 최고위원회의 주요내용은 다음과 같다 이방호 정책위의장 노무현 ...</td>\n",
       "      <td>1</td>\n",
       "    </tr>\n",
       "    <tr>\n",
       "      <th>11</th>\n",
       "      <td>일 시 2005년 1월 18일화 0930 장 소 중앙당 기자실 질의응답 국가보안법과...</td>\n",
       "      <td>0</td>\n",
       "    </tr>\n",
       "    <tr>\n",
       "      <th>12</th>\n",
       "      <td>박완주 원내대변인 현안 브리핑 일시 2014년 10월 14일 오후 2시 장소 정론관...</td>\n",
       "      <td>0</td>\n",
       "    </tr>\n",
       "    <tr>\n",
       "      <th>13</th>\n",
       "      <td>이재정 원내대변인 오전 현안 추가 서면 브리핑 억울하다며 특검 비하 나선 최순실 박...</td>\n",
       "      <td>0</td>\n",
       "    </tr>\n",
       "    <tr>\n",
       "      <th>14</th>\n",
       "      <td>논평박근혜의원는 꼭 타임스퀘어여야만 했나 박근혜의원이 오늘 대선출마를 공식 선언했다...</td>\n",
       "      <td>0</td>\n",
       "    </tr>\n",
       "    <tr>\n",
       "      <th>15</th>\n",
       "      <td>이언주 원내대변인 오후 서면브리핑 김대중 대통령 서거 6주기와 박근혜정부 오늘은 김...</td>\n",
       "      <td>0</td>\n",
       "    </tr>\n",
       "    <tr>\n",
       "      <th>16</th>\n",
       "      <td>홍문종 사무총장은 새누리당의 진흙탕 경선 걱정부터 하시기 바란다 홍문종 새누리당 사...</td>\n",
       "      <td>0</td>\n",
       "    </tr>\n",
       "    <tr>\n",
       "      <th>17</th>\n",
       "      <td>9 9 3월 7일 최고중진연석회의 주요내용은 다음과 같다 김형오 원내대표 국회가 ...</td>\n",
       "      <td>1</td>\n",
       "    </tr>\n",
       "    <tr>\n",
       "      <th>18</th>\n",
       "      <td>대포폰도 단순범행이라고 우기는 이상한 청와대 최고 권력기관들이 개입된 민간인 사찰 ...</td>\n",
       "      <td>0</td>\n",
       "    </tr>\n",
       "    <tr>\n",
       "      <th>19</th>\n",
       "      <td>9 9 조윤선 대변인은 9월 8일 최고위원회의 비공개 부분 주요내용을 다음과 같이...</td>\n",
       "      <td>1</td>\n",
       "    </tr>\n",
       "    <tr>\n",
       "      <th>20</th>\n",
       "      <td>9 9 조해진 대변인은 329월 최고위원회의 비공개부분 서면브리핑에서 다음과 같이...</td>\n",
       "      <td>1</td>\n",
       "    </tr>\n",
       "    <tr>\n",
       "      <th>21</th>\n",
       "      <td>9 9 안상수 대표최고위원은 2 1 11 4목 1 15 당사 2층 회의실에서 한나...</td>\n",
       "      <td>1</td>\n",
       "    </tr>\n",
       "    <tr>\n",
       "      <th>22</th>\n",
       "      <td>새누리당 김무성 대표최고위원은 2 15 11 13 금 14 국회 헌정기념관에서 열...</td>\n",
       "      <td>1</td>\n",
       "    </tr>\n",
       "    <tr>\n",
       "      <th>23</th>\n",
       "      <td>9 9 안상수 대표최고위원은 2 11221월 14 서울 중구 연세재단 세브란스빌딩...</td>\n",
       "      <td>1</td>\n",
       "    </tr>\n",
       "    <tr>\n",
       "      <th>24</th>\n",
       "      <td>염동열 수석대변인은 1 월 23일 현안관련 서면 브리핑에서 다음과 같이 밝혔다 문...</td>\n",
       "      <td>1</td>\n",
       "    </tr>\n",
       "    <tr>\n",
       "      <th>25</th>\n",
       "      <td>일 시 2005년 5월 13일금 1500 장 소 한국교원단체총연합회 대강당 참 석 ...</td>\n",
       "      <td>0</td>\n",
       "    </tr>\n",
       "    <tr>\n",
       "      <th>26</th>\n",
       "      <td>김성원 대변인은 1월 15일 현안관련 서면 브리핑에서 다음과 같이 밝혔다 문재인 ...</td>\n",
       "      <td>1</td>\n",
       "    </tr>\n",
       "    <tr>\n",
       "      <th>27</th>\n",
       "      <td>새로운 대한민국 자치분권내각중심 국정운영 토론회 축사 일시 2017년 1월 20일금...</td>\n",
       "      <td>0</td>\n",
       "    </tr>\n",
       "    <tr>\n",
       "      <th>28</th>\n",
       "      <td>일 시 2007년 1월 19일금 1130 장 소 국회 브리핑룸 브리핑 서영교 부대변...</td>\n",
       "      <td>0</td>\n",
       "    </tr>\n",
       "    <tr>\n",
       "      <th>29</th>\n",
       "      <td>이춘석 대변인 오전 현안브리핑 일시 2011년 1월 11일 오전 10시 장소 국회 ...</td>\n",
       "      <td>0</td>\n",
       "    </tr>\n",
       "    <tr>\n",
       "      <th>...</th>\n",
       "      <td>...</td>\n",
       "      <td>...</td>\n",
       "    </tr>\n",
       "    <tr>\n",
       "      <th>68438</th>\n",
       "      <td>제18차 정책조정회의 모두발언 일시 2016년 10월 6일목 오전 8시 30분 장소...</td>\n",
       "      <td>0</td>\n",
       "    </tr>\n",
       "    <tr>\n",
       "      <th>68439</th>\n",
       "      <td>김현 대변인 MBC 방송사고 관련 서면브리핑 MBC 방송사고의 진상을 규명하고 반드...</td>\n",
       "      <td>0</td>\n",
       "    </tr>\n",
       "    <tr>\n",
       "      <th>68440</th>\n",
       "      <td>일 시 2007년 4월 20일금 1100 장 소 서귀포시청 기자실 참 석 정세균 당...</td>\n",
       "      <td>0</td>\n",
       "    </tr>\n",
       "    <tr>\n",
       "      <th>68441</th>\n",
       "      <td>박용진 대변인 박근혜 후보 정수장학회 입장발표 관련 서면브리핑 국민의 상식과 역사적...</td>\n",
       "      <td>0</td>\n",
       "    </tr>\n",
       "    <tr>\n",
       "      <th>68442</th>\n",
       "      <td>이용섭 대변인 현안관련 서면브리핑 뼛속까지 친미친일인 대통령의 국가관 이명박 대통령...</td>\n",
       "      <td>0</td>\n",
       "    </tr>\n",
       "    <tr>\n",
       "      <th>68443</th>\n",
       "      <td>한나라당과 나경원 서울시장 후보 측의 네거티브 공세 에 대해 박원순 후보 측 선거대...</td>\n",
       "      <td>0</td>\n",
       "    </tr>\n",
       "    <tr>\n",
       "      <th>68444</th>\n",
       "      <td>제1차 민주당 24시 비상국회 운영본부회의 일시 2013년 9월 25일 오전 9시 ...</td>\n",
       "      <td>0</td>\n",
       "    </tr>\n",
       "    <tr>\n",
       "      <th>68445</th>\n",
       "      <td>윤관석 원내대변인 원내 현안 서면 브리핑 일시 2012년 10월 10일 1700 장...</td>\n",
       "      <td>0</td>\n",
       "    </tr>\n",
       "    <tr>\n",
       "      <th>68446</th>\n",
       "      <td>6월 14일 혁신비상대책위원회 회의 주요내용은 다음과 같다 김희옥 혁신비대위원장 ...</td>\n",
       "      <td>1</td>\n",
       "    </tr>\n",
       "    <tr>\n",
       "      <th>68447</th>\n",
       "      <td>일 시 2006년 6월 22일 1420 장 소 국회 기자실 당초 오후 2시부터 열릴...</td>\n",
       "      <td>0</td>\n",
       "    </tr>\n",
       "    <tr>\n",
       "      <th>68448</th>\n",
       "      <td>배재정 대변인 오전 현안 브리핑 일시 2013년 12월 10일 오전 11시 30분 ...</td>\n",
       "      <td>0</td>\n",
       "    </tr>\n",
       "    <tr>\n",
       "      <th>68449</th>\n",
       "      <td>황우여 대표최고위원은 2 13 6 2 목 183 국회 의원회관 의원식당 별실 3호...</td>\n",
       "      <td>1</td>\n",
       "    </tr>\n",
       "    <tr>\n",
       "      <th>68450</th>\n",
       "      <td>9 9 전여옥 대변인은 5월 3일 의원총회 비공개 부분 브리핑을 통해 다음과 같이...</td>\n",
       "      <td>1</td>\n",
       "    </tr>\n",
       "    <tr>\n",
       "      <th>68451</th>\n",
       "      <td>9 9 이명박 대통령 후보는 1126월 오전 파주소재 전방 1사단을 방문하였다 그...</td>\n",
       "      <td>1</td>\n",
       "    </tr>\n",
       "    <tr>\n",
       "      <th>68452</th>\n",
       "      <td>오늘 문재인 정부는 김장겸 MBC 사장의 강제구인을 기습적으로 시도했다 언론탄압의...</td>\n",
       "      <td>1</td>\n",
       "    </tr>\n",
       "    <tr>\n",
       "      <th>68453</th>\n",
       "      <td>추미애 대표 2018 한반도평화 심포지엄 개회식 축사 일시 2018년 6월 29금 ...</td>\n",
       "      <td>0</td>\n",
       "    </tr>\n",
       "    <tr>\n",
       "      <th>68454</th>\n",
       "      <td>27일 손학규 대표 박영선 서울시장 후보와 함께 종로구 경운동 서울노인복지센터를 방...</td>\n",
       "      <td>0</td>\n",
       "    </tr>\n",
       "    <tr>\n",
       "      <th>68455</th>\n",
       "      <td>일 시 2005년 6월 1일수 1430 장 소 국회도서관 소회의실 참 석 문희상 당...</td>\n",
       "      <td>0</td>\n",
       "    </tr>\n",
       "    <tr>\n",
       "      <th>68456</th>\n",
       "      <td>전통문화진흥과 종교차별 해소를 위한 대토론회 축사 일시2008년12월12일 1000...</td>\n",
       "      <td>0</td>\n",
       "    </tr>\n",
       "    <tr>\n",
       "      <th>68457</th>\n",
       "      <td>새누리당은 고발조치된 박찬우 전 차관에 대한 태도를 분명히 하라 중앙선거관리위원회는...</td>\n",
       "      <td>0</td>\n",
       "    </tr>\n",
       "    <tr>\n",
       "      <th>68458</th>\n",
       "      <td>문대성 후보와 새누리당은 침묵하지 말라 새누리당 문대성 후보의 학위 수여처인 국민대...</td>\n",
       "      <td>0</td>\n",
       "    </tr>\n",
       "    <tr>\n",
       "      <th>68459</th>\n",
       "      <td>나경원 자유한국당 대표 몸소 장두노미 실천하기 전에 강원도민과 국민에게 사과했어야 ...</td>\n",
       "      <td>0</td>\n",
       "    </tr>\n",
       "    <tr>\n",
       "      <th>68460</th>\n",
       "      <td>7월 19일 의원총회 주요내용은 다음과 같다 정진석 원내대표 의원님 여러분 안녕하...</td>\n",
       "      <td>1</td>\n",
       "    </tr>\n",
       "    <tr>\n",
       "      <th>68461</th>\n",
       "      <td>9 9 이명박 정부 출범 이후 최초의 정기국회가 시작된다 한나라당은 이번 국회에서...</td>\n",
       "      <td>1</td>\n",
       "    </tr>\n",
       "    <tr>\n",
       "      <th>68462</th>\n",
       "      <td>일 시 2007년 7월 16일월 1110 장 소 국회 브리핑룸 최고위원회 비공개 부...</td>\n",
       "      <td>0</td>\n",
       "    </tr>\n",
       "    <tr>\n",
       "      <th>68463</th>\n",
       "      <td>추미애 대표 해상주권지키기 긴급오찬간담회 인사말 일시 2016년 10월 13일목 오...</td>\n",
       "      <td>0</td>\n",
       "    </tr>\n",
       "    <tr>\n",
       "      <th>68464</th>\n",
       "      <td>이현철 부대변인 문재인후보 부산 선대위 출범식 서면브리핑 민주통합당 문재인 후보는 ...</td>\n",
       "      <td>0</td>\n",
       "    </tr>\n",
       "    <tr>\n",
       "      <th>68465</th>\n",
       "      <td>상향식공천제도혁신위원회 출범식 및 1차 회의 모두발언 일시 2013년 6월 11일 ...</td>\n",
       "      <td>0</td>\n",
       "    </tr>\n",
       "    <tr>\n",
       "      <th>68466</th>\n",
       "      <td>9 9 이계진 대변인은 2월 21일 현안관련 브리핑에서 다음과 같이 밝혔다 이재오...</td>\n",
       "      <td>1</td>\n",
       "    </tr>\n",
       "    <tr>\n",
       "      <th>68467</th>\n",
       "      <td>새누리당 김무성 대표최고위원은 2 15 1 29목 133 국회의원회관에서 열린 인...</td>\n",
       "      <td>1</td>\n",
       "    </tr>\n",
       "  </tbody>\n",
       "</table>\n",
       "<p>68468 rows × 2 columns</p>\n",
       "</div>"
      ],
      "text/plain": [
       "                                                    text  party\n",
       "0       우리사회의 약자인 을 을 대변한다는 명목으로 발족한 민주당의 을지로위원회가 본래 ...      1\n",
       "1      김문수 경기지사는 천안함 실종 장병가족에게 사죄하라 김문수 경기지사가 천안함 사고와...      0\n",
       "2      이용섭 대변인 오후 현안브리핑 일시 2011년 7월 13일 오후 1시 50분 장소 ...      0\n",
       "3       9 9 국정원이 전했다는북한의 납북자 가족대표 최성용씨 테러 위협 첩보는납북자 가...      1\n",
       "4      민주노총에 대한 정치탄압을 즉각 중단하라 경찰이 24일 미국산 쇠고기 수입 반대 총...      0\n",
       "5       9 9 나경원 대변인은 7월 6일 현안관련 브리핑에서 다음과 같이 밝혔다 음습한 ...      1\n",
       "6      김유정 대변인 오전 현안브리핑 일시 2009년 4월 28일 오전 11시 30분 장소...      0\n",
       "7      허위사실로 민주당과 당직자들의 명예를 훼손한 한선교 의원에 대해 법적인 책임을 끝까...      0\n",
       "8      세금 상식 없어 세금안낸 이만의 환경부 장관이 운하파기로 충성경쟁 이만의 환경부장관...      0\n",
       "9      박지원 원내대표 세종시 수정안 부결 관련 기자간담회 일시 2010년 6월 29일 1...      0\n",
       "10      9 9 2월 16일 최고위원회의 주요내용은 다음과 같다 이방호 정책위의장 노무현 ...      1\n",
       "11     일 시 2005년 1월 18일화 0930 장 소 중앙당 기자실 질의응답 국가보안법과...      0\n",
       "12     박완주 원내대변인 현안 브리핑 일시 2014년 10월 14일 오후 2시 장소 정론관...      0\n",
       "13     이재정 원내대변인 오전 현안 추가 서면 브리핑 억울하다며 특검 비하 나선 최순실 박...      0\n",
       "14     논평박근혜의원는 꼭 타임스퀘어여야만 했나 박근혜의원이 오늘 대선출마를 공식 선언했다...      0\n",
       "15     이언주 원내대변인 오후 서면브리핑 김대중 대통령 서거 6주기와 박근혜정부 오늘은 김...      0\n",
       "16     홍문종 사무총장은 새누리당의 진흙탕 경선 걱정부터 하시기 바란다 홍문종 새누리당 사...      0\n",
       "17      9 9 3월 7일 최고중진연석회의 주요내용은 다음과 같다 김형오 원내대표 국회가 ...      1\n",
       "18     대포폰도 단순범행이라고 우기는 이상한 청와대 최고 권력기관들이 개입된 민간인 사찰 ...      0\n",
       "19      9 9 조윤선 대변인은 9월 8일 최고위원회의 비공개 부분 주요내용을 다음과 같이...      1\n",
       "20      9 9 조해진 대변인은 329월 최고위원회의 비공개부분 서면브리핑에서 다음과 같이...      1\n",
       "21      9 9 안상수 대표최고위원은 2 1 11 4목 1 15 당사 2층 회의실에서 한나...      1\n",
       "22      새누리당 김무성 대표최고위원은 2 15 11 13 금 14 국회 헌정기념관에서 열...      1\n",
       "23      9 9 안상수 대표최고위원은 2 11221월 14 서울 중구 연세재단 세브란스빌딩...      1\n",
       "24      염동열 수석대변인은 1 월 23일 현안관련 서면 브리핑에서 다음과 같이 밝혔다 문...      1\n",
       "25     일 시 2005년 5월 13일금 1500 장 소 한국교원단체총연합회 대강당 참 석 ...      0\n",
       "26      김성원 대변인은 1월 15일 현안관련 서면 브리핑에서 다음과 같이 밝혔다 문재인 ...      1\n",
       "27     새로운 대한민국 자치분권내각중심 국정운영 토론회 축사 일시 2017년 1월 20일금...      0\n",
       "28     일 시 2007년 1월 19일금 1130 장 소 국회 브리핑룸 브리핑 서영교 부대변...      0\n",
       "29     이춘석 대변인 오전 현안브리핑 일시 2011년 1월 11일 오전 10시 장소 국회 ...      0\n",
       "...                                                  ...    ...\n",
       "68438  제18차 정책조정회의 모두발언 일시 2016년 10월 6일목 오전 8시 30분 장소...      0\n",
       "68439  김현 대변인 MBC 방송사고 관련 서면브리핑 MBC 방송사고의 진상을 규명하고 반드...      0\n",
       "68440  일 시 2007년 4월 20일금 1100 장 소 서귀포시청 기자실 참 석 정세균 당...      0\n",
       "68441  박용진 대변인 박근혜 후보 정수장학회 입장발표 관련 서면브리핑 국민의 상식과 역사적...      0\n",
       "68442  이용섭 대변인 현안관련 서면브리핑 뼛속까지 친미친일인 대통령의 국가관 이명박 대통령...      0\n",
       "68443  한나라당과 나경원 서울시장 후보 측의 네거티브 공세 에 대해 박원순 후보 측 선거대...      0\n",
       "68444  제1차 민주당 24시 비상국회 운영본부회의 일시 2013년 9월 25일 오전 9시 ...      0\n",
       "68445  윤관석 원내대변인 원내 현안 서면 브리핑 일시 2012년 10월 10일 1700 장...      0\n",
       "68446   6월 14일 혁신비상대책위원회 회의 주요내용은 다음과 같다 김희옥 혁신비대위원장 ...      1\n",
       "68447  일 시 2006년 6월 22일 1420 장 소 국회 기자실 당초 오후 2시부터 열릴...      0\n",
       "68448  배재정 대변인 오전 현안 브리핑 일시 2013년 12월 10일 오전 11시 30분 ...      0\n",
       "68449   황우여 대표최고위원은 2 13 6 2 목 183 국회 의원회관 의원식당 별실 3호...      1\n",
       "68450   9 9 전여옥 대변인은 5월 3일 의원총회 비공개 부분 브리핑을 통해 다음과 같이...      1\n",
       "68451   9 9 이명박 대통령 후보는 1126월 오전 파주소재 전방 1사단을 방문하였다 그...      1\n",
       "68452   오늘 문재인 정부는 김장겸 MBC 사장의 강제구인을 기습적으로 시도했다 언론탄압의...      1\n",
       "68453  추미애 대표 2018 한반도평화 심포지엄 개회식 축사 일시 2018년 6월 29금 ...      0\n",
       "68454  27일 손학규 대표 박영선 서울시장 후보와 함께 종로구 경운동 서울노인복지센터를 방...      0\n",
       "68455  일 시 2005년 6월 1일수 1430 장 소 국회도서관 소회의실 참 석 문희상 당...      0\n",
       "68456  전통문화진흥과 종교차별 해소를 위한 대토론회 축사 일시2008년12월12일 1000...      0\n",
       "68457  새누리당은 고발조치된 박찬우 전 차관에 대한 태도를 분명히 하라 중앙선거관리위원회는...      0\n",
       "68458  문대성 후보와 새누리당은 침묵하지 말라 새누리당 문대성 후보의 학위 수여처인 국민대...      0\n",
       "68459  나경원 자유한국당 대표 몸소 장두노미 실천하기 전에 강원도민과 국민에게 사과했어야 ...      0\n",
       "68460   7월 19일 의원총회 주요내용은 다음과 같다 정진석 원내대표 의원님 여러분 안녕하...      1\n",
       "68461   9 9 이명박 정부 출범 이후 최초의 정기국회가 시작된다 한나라당은 이번 국회에서...      1\n",
       "68462  일 시 2007년 7월 16일월 1110 장 소 국회 브리핑룸 최고위원회 비공개 부...      0\n",
       "68463  추미애 대표 해상주권지키기 긴급오찬간담회 인사말 일시 2016년 10월 13일목 오...      0\n",
       "68464  이현철 부대변인 문재인후보 부산 선대위 출범식 서면브리핑 민주통합당 문재인 후보는 ...      0\n",
       "68465  상향식공천제도혁신위원회 출범식 및 1차 회의 모두발언 일시 2013년 6월 11일 ...      0\n",
       "68466   9 9 이계진 대변인은 2월 21일 현안관련 브리핑에서 다음과 같이 밝혔다 이재오...      1\n",
       "68467   새누리당 김무성 대표최고위원은 2 15 1 29목 133 국회의원회관에서 열린 인...      1\n",
       "\n",
       "[68468 rows x 2 columns]"
      ]
     },
     "execution_count": 6,
     "metadata": {},
     "output_type": "execute_result"
    }
   ],
   "source": [
    "data"
   ]
  },
  {
   "cell_type": "markdown",
   "metadata": {},
   "source": [
    "### Multinomial"
   ]
  },
  {
   "cell_type": "code",
   "execution_count": 3,
   "metadata": {},
   "outputs": [],
   "source": [
    "vector = CountVectorizer()"
   ]
  },
  {
   "cell_type": "code",
   "execution_count": 7,
   "metadata": {},
   "outputs": [],
   "source": [
    "corpus = data['text']"
   ]
  },
  {
   "cell_type": "code",
   "execution_count": 10,
   "metadata": {},
   "outputs": [],
   "source": [
    "corpus=list(corpus)"
   ]
  },
  {
   "cell_type": "code",
   "execution_count": 18,
   "metadata": {},
   "outputs": [],
   "source": [
    "from sklearn.model_selection import train_test_split"
   ]
  },
  {
   "cell_type": "code",
   "execution_count": 31,
   "metadata": {},
   "outputs": [],
   "source": [
    "X_train, X_test, y_train, y_test = train_test_split(data.iloc[:,:-1],data.iloc[:,-1])"
   ]
  },
  {
   "cell_type": "code",
   "execution_count": 34,
   "metadata": {},
   "outputs": [],
   "source": [
    "X_train = list(X_train['text'])"
   ]
  },
  {
   "cell_type": "code",
   "execution_count": 35,
   "metadata": {},
   "outputs": [],
   "source": [
    "X_train_dtm = vector.fit_transform(X_train)"
   ]
  },
  {
   "cell_type": "code",
   "execution_count": 36,
   "metadata": {},
   "outputs": [
    {
     "name": "stdout",
     "output_type": "stream",
     "text": [
      "(51351, 1314299)\n"
     ]
    }
   ],
   "source": [
    "print(X_train_dtm.shape)"
   ]
  },
  {
   "cell_type": "code",
   "execution_count": 54,
   "metadata": {},
   "outputs": [],
   "source": [
    "from sklearn.naive_bayes import MultinomialNB"
   ]
  },
  {
   "cell_type": "code",
   "execution_count": 55,
   "metadata": {},
   "outputs": [],
   "source": [
    "mod = MultinomialNB()"
   ]
  },
  {
   "cell_type": "code",
   "execution_count": 56,
   "metadata": {},
   "outputs": [
    {
     "data": {
      "text/plain": [
       "MultinomialNB(alpha=1.0, class_prior=None, fit_prior=True)"
      ]
     },
     "execution_count": 56,
     "metadata": {},
     "output_type": "execute_result"
    }
   ],
   "source": [
    "mod.fit(X_train_dtm, y_train)"
   ]
  },
  {
   "cell_type": "code",
   "execution_count": 57,
   "metadata": {},
   "outputs": [
    {
     "ename": "TypeError",
     "evalue": "list indices must be integers or slices, not str",
     "output_type": "error",
     "traceback": [
      "\u001b[1;31m---------------------------------------------------------------------------\u001b[0m",
      "\u001b[1;31mTypeError\u001b[0m                                 Traceback (most recent call last)",
      "\u001b[1;32m<ipython-input-57-7eec6d051c5a>\u001b[0m in \u001b[0;36m<module>\u001b[1;34m\u001b[0m\n\u001b[0;32m      1\u001b[0m \u001b[1;32mfrom\u001b[0m \u001b[0msklearn\u001b[0m\u001b[1;33m.\u001b[0m\u001b[0mmetrics\u001b[0m \u001b[1;32mimport\u001b[0m \u001b[0maccuracy_score\u001b[0m\u001b[1;33m\u001b[0m\u001b[1;33m\u001b[0m\u001b[0m\n\u001b[1;32m----> 2\u001b[1;33m \u001b[0mX_test\u001b[0m \u001b[1;33m=\u001b[0m \u001b[0mlist\u001b[0m\u001b[1;33m(\u001b[0m\u001b[0mX_test\u001b[0m\u001b[1;33m[\u001b[0m\u001b[1;34m'text'\u001b[0m\u001b[1;33m]\u001b[0m\u001b[1;33m)\u001b[0m\u001b[1;33m\u001b[0m\u001b[1;33m\u001b[0m\u001b[0m\n\u001b[0m",
      "\u001b[1;31mTypeError\u001b[0m: list indices must be integers or slices, not str"
     ]
    }
   ],
   "source": [
    "from sklearn.metrics import accuracy_score\n",
    "X_test = list(X_test['text'])"
   ]
  },
  {
   "cell_type": "code",
   "execution_count": 58,
   "metadata": {},
   "outputs": [],
   "source": [
    "X_test_dtm = vector.transform(X_test)"
   ]
  },
  {
   "cell_type": "code",
   "execution_count": 59,
   "metadata": {},
   "outputs": [],
   "source": [
    "predict = mod.predict(X_test_dtm)"
   ]
  },
  {
   "cell_type": "code",
   "execution_count": 60,
   "metadata": {},
   "outputs": [
    {
     "name": "stdout",
     "output_type": "stream",
     "text": [
      "0.9415201261903371\n"
     ]
    }
   ],
   "source": [
    "print(accuracy_score(y_test, predict))"
   ]
  },
  {
   "cell_type": "markdown",
   "metadata": {},
   "source": [
    "-------------"
   ]
  },
  {
   "cell_type": "code",
   "execution_count": 61,
   "metadata": {},
   "outputs": [],
   "source": [
    "vector = CountVectorizer()"
   ]
  },
  {
   "cell_type": "code",
   "execution_count": 62,
   "metadata": {},
   "outputs": [],
   "source": [
    "from sklearn.naive_bayes import BernoulliNB"
   ]
  },
  {
   "cell_type": "code",
   "execution_count": 63,
   "metadata": {},
   "outputs": [],
   "source": [
    "mod2 = BernoulliNB()"
   ]
  },
  {
   "cell_type": "code",
   "execution_count": 64,
   "metadata": {},
   "outputs": [],
   "source": [
    "X_train, X_test, y_train, y_test = train_test_split(data.iloc[:,:-1],data.iloc[:,-1])\n",
    "X_train = list(X_train['text'])\n",
    "X_train_dtm = vector.fit_transform(X_train)"
   ]
  },
  {
   "cell_type": "code",
   "execution_count": 65,
   "metadata": {},
   "outputs": [
    {
     "data": {
      "text/plain": [
       "BernoulliNB(alpha=1.0, binarize=0.0, class_prior=None, fit_prior=True)"
      ]
     },
     "execution_count": 65,
     "metadata": {},
     "output_type": "execute_result"
    }
   ],
   "source": [
    "mod2.fit(X_train_dtm, y_train)"
   ]
  },
  {
   "cell_type": "code",
   "execution_count": 66,
   "metadata": {},
   "outputs": [],
   "source": [
    "X_test = list(X_test['text'])"
   ]
  },
  {
   "cell_type": "code",
   "execution_count": 67,
   "metadata": {},
   "outputs": [],
   "source": [
    "X_test_dtm = vector.transform(X_test)"
   ]
  },
  {
   "cell_type": "code",
   "execution_count": 68,
   "metadata": {},
   "outputs": [],
   "source": [
    "predict = mod2.predict(X_test_dtm)"
   ]
  },
  {
   "cell_type": "code",
   "execution_count": 69,
   "metadata": {},
   "outputs": [
    {
     "name": "stdout",
     "output_type": "stream",
     "text": [
      "0.7930712157504236\n"
     ]
    }
   ],
   "source": [
    "print(accuracy_score(y_test, predict))"
   ]
  },
  {
   "cell_type": "code",
   "execution_count": null,
   "metadata": {},
   "outputs": [],
   "source": []
  }
 ],
 "metadata": {
  "kernelspec": {
   "display_name": "Python 3",
   "language": "python",
   "name": "python3"
  },
  "language_info": {
   "codemirror_mode": {
    "name": "ipython",
    "version": 3
   },
   "file_extension": ".py",
   "mimetype": "text/x-python",
   "name": "python",
   "nbconvert_exporter": "python",
   "pygments_lexer": "ipython3",
   "version": "3.7.3"
  }
 },
 "nbformat": 4,
 "nbformat_minor": 2
}
