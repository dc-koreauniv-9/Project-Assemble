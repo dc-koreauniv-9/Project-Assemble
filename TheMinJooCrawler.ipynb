{
 "cells": [
  {
   "cell_type": "code",
   "execution_count": 1,
   "metadata": {},
   "outputs": [
    {
     "name": "stderr",
     "output_type": "stream",
     "text": [
      "C:\\anacondaWork\\Anaconda3\\lib\\site-packages\\ipykernel_launcher.py:63: DeprecationWarning: use driver.switch_to.window instead\n"
     ]
    }
   ],
   "source": [
    "#최종본 ) 추가요소- 전체 글의 개수 가져와서 5페이지씩 몇개인지 보고 몇번 돌지 i변수에 넣어주기.\n",
    "import json\n",
    "from bs4 import BeautifulSoup\n",
    "import html\n",
    "import urllib.request\n",
    "import requests\n",
    "import time\n",
    "from selenium import webdriver\n",
    "import sqlite3\n",
    "import datetime\n",
    "\n",
    "\n",
    "con = sqlite3.connect(\"TheMinJoo.db\")\n",
    "cur = con.cursor()\n",
    "\n",
    "cur.executescript(\"\"\"\n",
    "    DROP TABLE IF EXISTS table1;\n",
    "    CREATE TABLE table1(\n",
    "        id INTEGER PRIMARY KEY AUTOINCREMENT NOT NULL,\n",
    "        title TEXT NOT NULL,\n",
    "        url TEXT NOT NULL);\n",
    "        \n",
    "    DROP TABLE IF EXISTS table2;\n",
    "    CREATE TABLE table2(\n",
    "        id INTEGER PRIMARY KEY AUTOINCREMENT NOT NULL,\n",
    "        table1_id INTEGER NOT NULL,\n",
    "        content TEXT NOT NULL); \n",
    "    \"\"\")\n",
    "con.commit()\n",
    "\n",
    "with open(\"account.json\") as fp:\n",
    "    account = json.load(fp)\n",
    "    \n",
    "\n",
    "driver = webdriver.Chrome()\n",
    "driver.get(\"http://theminjoo.kr/briefingList.do\")\n",
    "\n",
    "i = 0\n",
    "while(i<3):  #5개page를 묶음으로 몇번돌지 정하기.\n",
    "    \n",
    "    for page in range(2,7):\n",
    "        if(page == 6):\n",
    "            page=1\n",
    "            #5개단위로 넘기기.\n",
    "            driver.find_element_by_xpath('//*[@id=\"content\"]/div[3]/a[3]').click()\n",
    "            i+=1\n",
    "            \n",
    "        li = driver.find_element_by_css_selector('.paging ul li a')   \n",
    "\n",
    "        #각 안에 들어간 10개의 링크들\n",
    "        for _ in driver.find_elements_by_css_selector(\".bbs_list .tal > a\"):\n",
    "            if len(_.get_attribute(\"href\"))>1:\n",
    "                cur.execute(\"INSERT INTO table1(title,url) VALUES(?,?)\",\n",
    "                           [_.text,_.get_attribute(\"href\"),])\n",
    "                con.commit()\n",
    "        cur.execute(\"SELECT * FROM table1\")\n",
    "\n",
    "        #1,2,3페이지. \n",
    "        driver.find_element_by_xpath('//*[@id=\"content\"]/div[3]/ul[%s]/li/a' %page).click()\n",
    "        \n",
    "\n",
    "driver.execute_script(\"javascript:window.open('about:blank')\")\n",
    "driver.switch_to_window(driver.window_handles[-1])\n",
    "\n",
    "for _ in  cur.fetchall():\n",
    "    driver.get(_[2])\n",
    "    cur.execute(\"INSERT INTO table2(table1_id, content)VALUES(?,?)\",\n",
    "               [_[0],driver.find_element_by_css_selector('div.cont').text])\n",
    "    con.commit()\n",
    "    \n",
    "driver.close()\n",
    "\n",
    "        "
   ]
  },
  {
   "cell_type": "code",
   "execution_count": null,
   "metadata": {},
   "outputs": [],
   "source": []
  }
 ],
 "metadata": {
  "kernelspec": {
   "display_name": "Python 3",
   "language": "python",
   "name": "python3"
  },
  "language_info": {
   "codemirror_mode": {
    "name": "ipython",
    "version": 3
   },
   "file_extension": ".py",
   "mimetype": "text/x-python",
   "name": "python",
   "nbconvert_exporter": "python",
   "pygments_lexer": "ipython3",
   "version": "3.6.5"
  }
 },
 "nbformat": 4,
 "nbformat_minor": 2
}
